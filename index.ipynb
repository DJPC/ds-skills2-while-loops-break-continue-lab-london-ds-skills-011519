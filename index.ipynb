{
 "cells": [
  {
   "cell_type": "markdown",
   "metadata": {},
   "source": [
    "# Statistical Methods in Pandas - Lab"
   ]
  },
  {
   "cell_type": "markdown",
   "metadata": {},
   "source": [
    "## Introduction\n",
    "\n",
    "In this lesson you'll get some hands on experience using some of the key summary statistics methods in Pandas."
   ]
  },
  {
   "cell_type": "markdown",
   "metadata": {},
   "source": [
    "## Objectives:\n",
    "You will be able to:\n",
    "\n",
    "* Understand and use the df.describe() and df.info() summary statistics methods\n",
    "* Use built-in Pandas methods for calculating summary statistics (.mean(), .std(), .count(), .sum(), .mean(), .median(), .std(), .var() and .quantile())\n",
    "* Apply a function to every element in a Series or DataFrame using s.apply() and df.applymap()\n",
    "\n",
    "\n",
    "## Getting Started\n",
    "\n",
    "For this lab, we'll be working with a dataset containing information on various lego datasets.  You will find this dataset in the file `lego_sets.csv`.  \n",
    "\n",
    "In the cell below:\n",
    "\n",
    "* Import pandas and set the standard alias of `pd`\n",
    "* Load in the `lego_sets.csv`dataset using the `read_csv()` function\n",
    "* Display the head of the DataFrame to get a feel for what we'll be working with"
   ]
  },
  {
   "cell_type": "code",
   "execution_count": 2,
   "metadata": {
    "collapsed": true
   },
   "outputs": [],
   "source": [
    "import pandas as pd"
   ]
  },
  {
   "cell_type": "code",
   "execution_count": 3,
   "metadata": {},
   "outputs": [
    {
     "data": {
      "text/html": [
       "<div>\n",
       "<style>\n",
       "    .dataframe thead tr:only-child th {\n",
       "        text-align: right;\n",
       "    }\n",
       "\n",
       "    .dataframe thead th {\n",
       "        text-align: left;\n",
       "    }\n",
       "\n",
       "    .dataframe tbody tr th {\n",
       "        vertical-align: top;\n",
       "    }\n",
       "</style>\n",
       "<table border=\"1\" class=\"dataframe\">\n",
       "  <thead>\n",
       "    <tr style=\"text-align: right;\">\n",
       "      <th></th>\n",
       "      <th>ages</th>\n",
       "      <th>list_price</th>\n",
       "      <th>num_reviews</th>\n",
       "      <th>piece_count</th>\n",
       "      <th>play_star_rating</th>\n",
       "      <th>prod_desc</th>\n",
       "      <th>prod_id</th>\n",
       "      <th>prod_long_desc</th>\n",
       "      <th>review_difficulty</th>\n",
       "      <th>set_name</th>\n",
       "      <th>star_rating</th>\n",
       "      <th>theme_name</th>\n",
       "      <th>val_star_rating</th>\n",
       "      <th>country</th>\n",
       "    </tr>\n",
       "  </thead>\n",
       "  <tbody>\n",
       "    <tr>\n",
       "      <th>0</th>\n",
       "      <td>6-12</td>\n",
       "      <td>29.99</td>\n",
       "      <td>2.0</td>\n",
       "      <td>277.0</td>\n",
       "      <td>4.0</td>\n",
       "      <td>Catapult into action and take back the eggs fr...</td>\n",
       "      <td>75823.0</td>\n",
       "      <td>Use the staircase catapult to launch Red into ...</td>\n",
       "      <td>Average</td>\n",
       "      <td>Bird Island Egg Heist</td>\n",
       "      <td>4.5</td>\n",
       "      <td>Angry Birds™</td>\n",
       "      <td>4.0</td>\n",
       "      <td>US</td>\n",
       "    </tr>\n",
       "    <tr>\n",
       "      <th>1</th>\n",
       "      <td>6-12</td>\n",
       "      <td>19.99</td>\n",
       "      <td>2.0</td>\n",
       "      <td>168.0</td>\n",
       "      <td>4.0</td>\n",
       "      <td>Launch a flying attack and rescue the eggs fro...</td>\n",
       "      <td>75822.0</td>\n",
       "      <td>Pilot Pig has taken off from Bird Island with ...</td>\n",
       "      <td>Easy</td>\n",
       "      <td>Piggy Plane Attack</td>\n",
       "      <td>5.0</td>\n",
       "      <td>Angry Birds™</td>\n",
       "      <td>4.0</td>\n",
       "      <td>US</td>\n",
       "    </tr>\n",
       "    <tr>\n",
       "      <th>2</th>\n",
       "      <td>6-12</td>\n",
       "      <td>12.99</td>\n",
       "      <td>11.0</td>\n",
       "      <td>74.0</td>\n",
       "      <td>4.3</td>\n",
       "      <td>Chase the piggy with lightning-fast Chuck and ...</td>\n",
       "      <td>75821.0</td>\n",
       "      <td>Pitch speedy bird Chuck against the Piggy Car....</td>\n",
       "      <td>Easy</td>\n",
       "      <td>Piggy Car Escape</td>\n",
       "      <td>4.3</td>\n",
       "      <td>Angry Birds™</td>\n",
       "      <td>4.1</td>\n",
       "      <td>US</td>\n",
       "    </tr>\n",
       "    <tr>\n",
       "      <th>3</th>\n",
       "      <td>12+</td>\n",
       "      <td>99.99</td>\n",
       "      <td>23.0</td>\n",
       "      <td>1032.0</td>\n",
       "      <td>3.6</td>\n",
       "      <td>Explore the architecture of the United States ...</td>\n",
       "      <td>21030.0</td>\n",
       "      <td>Discover the architectural secrets of the icon...</td>\n",
       "      <td>Average</td>\n",
       "      <td>United States Capitol Building</td>\n",
       "      <td>4.6</td>\n",
       "      <td>Architecture</td>\n",
       "      <td>4.3</td>\n",
       "      <td>US</td>\n",
       "    </tr>\n",
       "    <tr>\n",
       "      <th>4</th>\n",
       "      <td>12+</td>\n",
       "      <td>79.99</td>\n",
       "      <td>14.0</td>\n",
       "      <td>744.0</td>\n",
       "      <td>3.2</td>\n",
       "      <td>Recreate the Solomon R. Guggenheim Museum® wit...</td>\n",
       "      <td>21035.0</td>\n",
       "      <td>Discover the architectural secrets of Frank Ll...</td>\n",
       "      <td>Challenging</td>\n",
       "      <td>Solomon R. Guggenheim Museum®</td>\n",
       "      <td>4.6</td>\n",
       "      <td>Architecture</td>\n",
       "      <td>4.1</td>\n",
       "      <td>US</td>\n",
       "    </tr>\n",
       "  </tbody>\n",
       "</table>\n",
       "</div>"
      ],
      "text/plain": [
       "   ages  list_price  num_reviews  piece_count  play_star_rating  \\\n",
       "0  6-12       29.99          2.0        277.0               4.0   \n",
       "1  6-12       19.99          2.0        168.0               4.0   \n",
       "2  6-12       12.99         11.0         74.0               4.3   \n",
       "3   12+       99.99         23.0       1032.0               3.6   \n",
       "4   12+       79.99         14.0        744.0               3.2   \n",
       "\n",
       "                                           prod_desc  prod_id  \\\n",
       "0  Catapult into action and take back the eggs fr...  75823.0   \n",
       "1  Launch a flying attack and rescue the eggs fro...  75822.0   \n",
       "2  Chase the piggy with lightning-fast Chuck and ...  75821.0   \n",
       "3  Explore the architecture of the United States ...  21030.0   \n",
       "4  Recreate the Solomon R. Guggenheim Museum® wit...  21035.0   \n",
       "\n",
       "                                      prod_long_desc review_difficulty  \\\n",
       "0  Use the staircase catapult to launch Red into ...           Average   \n",
       "1  Pilot Pig has taken off from Bird Island with ...              Easy   \n",
       "2  Pitch speedy bird Chuck against the Piggy Car....              Easy   \n",
       "3  Discover the architectural secrets of the icon...           Average   \n",
       "4  Discover the architectural secrets of Frank Ll...       Challenging   \n",
       "\n",
       "                         set_name  star_rating    theme_name  val_star_rating  \\\n",
       "0           Bird Island Egg Heist          4.5  Angry Birds™              4.0   \n",
       "1              Piggy Plane Attack          5.0  Angry Birds™              4.0   \n",
       "2                Piggy Car Escape          4.3  Angry Birds™              4.1   \n",
       "3  United States Capitol Building          4.6  Architecture              4.3   \n",
       "4   Solomon R. Guggenheim Museum®          4.6  Architecture              4.1   \n",
       "\n",
       "  country  \n",
       "0      US  \n",
       "1      US  \n",
       "2      US  \n",
       "3      US  \n",
       "4      US  "
      ]
     },
     "execution_count": 3,
     "metadata": {},
     "output_type": "execute_result"
    }
   ],
   "source": [
    "df = pd.read_csv('lego_sets.csv')\n",
    "df.head()"
   ]
  },
  {
   "cell_type": "markdown",
   "metadata": {},
   "source": [
    "## Getting DataFrame-Level Statistics\n",
    "\n",
    "We'll begin by getting some overall summary statistics on the dataset.  There are two ways we'll get this information-- `.info()` and `.describe()`.\n",
    "\n",
    "### Using `.info()`\n",
    "\n",
    "The `.info()` method provides us metadata on the DataFrame itself.  This allows to answer questions such as:\n",
    "\n",
    "* What data type does each column contain?\n",
    "* How many rows are in my dataset? \n",
    "* How many total non-missing values does each column contain?\n",
    "* How much memory does the DataFrame take up?\n",
    "\n",
    "In the cell below, call our DataFrame's `.info()` method. "
   ]
  },
  {
   "cell_type": "code",
   "execution_count": 4,
   "metadata": {
    "collapsed": true
   },
   "outputs": [],
   "source": [
    "import numpy as np"
   ]
  },
  {
   "cell_type": "code",
   "execution_count": 5,
   "metadata": {},
   "outputs": [
    {
     "name": "stdout",
     "output_type": "stream",
     "text": [
      "<class 'pandas.core.frame.DataFrame'>\n",
      "RangeIndex: 12261 entries, 0 to 12260\n",
      "Data columns (total 14 columns):\n",
      "ages                 12261 non-null object\n",
      "list_price           12261 non-null float64\n",
      "num_reviews          10641 non-null float64\n",
      "piece_count          12261 non-null float64\n",
      "play_star_rating     10486 non-null float64\n",
      "prod_desc            11884 non-null object\n",
      "prod_id              12261 non-null float64\n",
      "prod_long_desc       12261 non-null object\n",
      "review_difficulty    10206 non-null object\n",
      "set_name             12261 non-null object\n",
      "star_rating          10641 non-null float64\n",
      "theme_name           12258 non-null object\n",
      "val_star_rating      10466 non-null float64\n",
      "country              12261 non-null object\n",
      "dtypes: float64(7), object(7)\n",
      "memory usage: 1.3+ MB\n"
     ]
    }
   ],
   "source": [
    "df.info()"
   ]
  },
  {
   "cell_type": "code",
   "execution_count": 7,
   "metadata": {},
   "outputs": [
    {
     "name": "stdout",
     "output_type": "stream",
     "text": [
      "Transformed {} to standard normal variable.\n",
      "Now mu: 2.112873669081103e-16 std: 0.999999999999999\n",
      "Transformed {} to standard normal variable.\n",
      "Now mu: -2.4377225691997434e-16 std: 1.0000000000000222\n",
      "Transformed {} to standard normal variable.\n",
      "Now mu: -3.306401903938308e-17 std: 1.0000000000000073\n",
      "Transformed {} to standard normal variable.\n",
      "Now mu: 3.89770812527246e-14 std: 1.0000000000000264\n",
      "Transformed {} to standard normal variable.\n",
      "Now mu: -2.5472605384133787e-17 std: 0.9999999999999981\n",
      "Transformed {} to standard normal variable.\n",
      "Now mu: 2.153038682506626e-14 std: 0.9999999999999868\n",
      "Transformed {} to standard normal variable.\n",
      "Now mu: -4.4576886505471716e-14 std: 0.9999999999999545\n"
     ]
    }
   ],
   "source": [
    "#Your code here\n",
    "def normalize_col(series):\n",
    "    mu = series.mean()\n",
    "    std = series.std()\n",
    "    series = series.map(lambda x: (x-mu)/std)\n",
    "    return series\n",
    "for col in df.columns:\n",
    "    if df[col].dtype in [np.float64]:\n",
    "        df[col] = normalize_col(df[col])\n",
    "        print('Transformed {} to standard normal variable.')\n",
    "        print('Now mu: {} std: {}'.format(df[col].mean(), df[col].std()))\n",
    "    else:\n",
    "        continue"
   ]
  },
  {
   "cell_type": "code",
   "execution_count": 5,
   "metadata": {},
   "outputs": [
    {
     "name": "stdout",
     "output_type": "stream",
     "text": [
      "Transformed {} to standard normal variable.\n",
      "Original mu: 65.14199840958968 std: 91.9804293059252, Now mu: 1.8110154288224448e-14 std: 0.9999999999999973\n",
      "Transformed {} to standard normal variable.\n",
      "Original mu: 16.82623813551358 std: 36.36898377283125, Now mu: -2.4377225691997434e-16 std: 1.0000000000000222\n",
      "Transformed {} to standard normal variable.\n",
      "Original mu: 493.40592121360413 std: 825.364580411521, Now mu: -3.306401903938308e-17 std: 1.0000000000000073\n",
      "Transformed {} to standard normal variable.\n",
      "Original mu: 4.337640663742107 std: 0.6520510342493655, Now mu: 3.89770812527246e-14 std: 1.0000000000000264\n",
      "Transformed {} to standard normal variable.\n",
      "Original mu: 59836.7523040535 std: 163811.4523357176, Now mu: -2.5472605384133787e-17 std: 0.9999999999999981\n",
      "Transformed {} to standard normal variable.\n",
      "Original mu: 4.514134009961459 std: 0.5188653617448391, Now mu: 2.153038682506626e-14 std: 0.9999999999999868\n",
      "Transformed {} to standard normal variable.\n",
      "Original mu: 4.22896044334037 std: 0.660282127774452, Now mu: -4.4576886505471716e-14 std: 0.9999999999999545\n"
     ]
    }
   ],
   "source": [
    "#With Lambda\n",
    "for col in df.columns:\n",
    "    if df[col].dtype in [np.float64]:\n",
    "        mu = df[col].mean()\n",
    "        std = df[col].std()\n",
    "        df[col] = df[col].map(lambda x: (x-mu)/std)\n",
    "        print('Transformed {} to standard normal variable.')\n",
    "        print('Original mu: {} std: {}, Now mu: {} std: {}'.format(mu, std, df[col].mean(), df[col].std()))\n",
    "    else:\n",
    "        continue"
   ]
  },
  {
   "cell_type": "markdown",
   "metadata": {},
   "source": [
    "#### Interpreting the Results\n",
    "\n",
    "Read the output above, and then answer the following questions:\n",
    "\n",
    "How many total rows are in this DataFrame?  How many columns contain numeric data? How many contain categorical data?  Identify at least 3 columns that contain missing values. \n",
    "\n",
    "Create a dictionary that rebins the age column to the following age ranges:\n",
    "Under 5, 5-8, 8-12, 12-18, 18-25, 25-35, 35-55, 55-64, 65+ \n",
    "\n",
    "There are 12261 rows, as evidenced by the Range Index listed in the output.  Of the 14 columns in this dataset, 7 contain numeric data stored as `float64`, and the other 7 contain strings, which pandas lists as `object`.  The column `num_reviews`, `review_difficulty`, and `val_star_rating` all contain missing values.  We can tell this because the number of entries for each of those columns is less than the total number of entries described by the Range Index. \n",
    "\n",
    "\n",
    "## Using `.describe()`\n",
    "\n",
    "Whereas `.info()` provides statistics about the DataFrame itself, `.describe()` returns output containing basic summary statistics about the data contained with the DataFrame.  \n",
    "\n",
    "In the cell below, call the DataFrame's `.describe()` method. "
   ]
  },
  {
   "cell_type": "code",
   "execution_count": 18,
   "metadata": {},
   "outputs": [
    {
     "data": {
      "text/plain": [
       "9"
      ]
     },
     "execution_count": 18,
     "metadata": {},
     "output_type": "execute_result"
    }
   ],
   "source": [
    "len(bins)"
   ]
  },
  {
   "cell_type": "code",
   "execution_count": 19,
   "metadata": {},
   "outputs": [
    {
     "data": {
      "text/plain": [
       "6-12    1476\n",
       "7-14    1421\n",
       "8-14    1180\n",
       "4-7      957\n",
       "5-12     911\n",
       "Name: ages, dtype: int64"
      ]
     },
     "execution_count": 19,
     "metadata": {},
     "output_type": "execute_result"
    }
   ],
   "source": [
    "#Preview Current Values\n",
    "df.ages.value_counts()[:5]\n",
    "        "
   ]
  },
  {
   "cell_type": "code",
   "execution_count": 40,
   "metadata": {
    "collapsed": true
   },
   "outputs": [],
   "source": [
    "bins = ['0-5', '5-8', '8-12', '12-18', '18-25', '25-35', '35-55', '55-64', '65+']\n",
    "up_lims = [int(bin.split('-')[-1].strip('+')) for bin in bins]\n",
    "bin_map = {}\n",
    "for age in df.ages.unique():\n",
    "    cur_up_lim = int(age.split('-')[-1].strip('+'))\n",
    "#     cur_lwr_lim = age.split('-')[0]\n",
    "    #Iterate through the list to find bin that age falls in\n",
    "    for n, new_up_lim in enumerate(up_lims):\n",
    "        if cur_up_lim <= new_up_lim:\n",
    "#             print(cur_up_lim, new_up_lim)\n",
    "            bin_map[age] = bins[n]\n",
    "            break"
   ]
  },
  {
   "cell_type": "markdown",
   "metadata": {},
   "source": [
    "# Notes\n",
    "This transformation is messy and arguements could certainly be made for a few corrections below including the mapping of 5+ to the 0-5 bin range. Further conditional rules could be introduced to handle this case."
   ]
  },
  {
   "cell_type": "code",
   "execution_count": 41,
   "metadata": {},
   "outputs": [
    {
     "data": {
      "text/plain": [
       "{'10+': '8-12',\n",
       " '10-14': '12-18',\n",
       " '10-16': '12-18',\n",
       " '10-21': '18-25',\n",
       " '11-16': '12-18',\n",
       " '12+': '8-12',\n",
       " '12-16': '12-18',\n",
       " '14+': '12-18',\n",
       " '16+': '12-18',\n",
       " '1½-3': '0-5',\n",
       " '1½-5': '0-5',\n",
       " '2-5': '0-5',\n",
       " '4+': '0-5',\n",
       " '4-7': '5-8',\n",
       " '5+': '0-5',\n",
       " '5-12': '8-12',\n",
       " '5-8': '5-8',\n",
       " '6+': '5-8',\n",
       " '6-12': '8-12',\n",
       " '6-14': '12-18',\n",
       " '7+': '5-8',\n",
       " '7-12': '8-12',\n",
       " '7-14': '12-18',\n",
       " '8+': '5-8',\n",
       " '8-12': '8-12',\n",
       " '8-14': '12-18',\n",
       " '9+': '8-12',\n",
       " '9-12': '8-12',\n",
       " '9-14': '12-18',\n",
       " '9-16': '12-18'}"
      ]
     },
     "execution_count": 41,
     "metadata": {},
     "output_type": "execute_result"
    }
   ],
   "source": [
    "#Preview Dict\n",
    "bin_map"
   ]
  },
  {
   "cell_type": "code",
   "execution_count": 42,
   "metadata": {},
   "outputs": [
    {
     "data": {
      "text/plain": [
       "8-12     4695\n",
       "12-18    4459\n",
       "5-8      1354\n",
       "0-5      1258\n",
       "18-25     184\n",
       "Name: ages2, dtype: int64"
      ]
     },
     "execution_count": 42,
     "metadata": {},
     "output_type": "execute_result"
    }
   ],
   "source": [
    "df['ages2'] = df.ages.map(bin_map)\n",
    "df['ages2'].value_counts()"
   ]
  },
  {
   "cell_type": "markdown",
   "metadata": {},
   "source": [
    "#### Interpreting the Results\n",
    "\n",
    "The output contains descriptive statistics corresponding to the columns.  Use these to answer the following questions:\n",
    "\n",
    "How much is the standard deviation for piece count?  How many pieces are in the largest lego set?  How many in the smallest lego set? What is the median `val_star_rating`?\n",
    "\n",
    "________________________________________________________________________________________________________________________________\n",
    "\n",
    "The standard deviation is 825 pieces.  The largest lego set contains 7,541 pieces, while the smallest contains only 1.  The median value for `val_star_rating` is 4.3.\n",
    "\n",
    "\n",
    "## Getting Summary Statistics\n",
    "\n",
    "Pandas also allows us to easily compute individual summary statistics using built-in methods.  Next, we'll get some practice using these methods. \n",
    "\n",
    "In the cell below, compute the median value of the `star_rating` column."
   ]
  },
  {
   "cell_type": "code",
   "execution_count": 43,
   "metadata": {
    "collapsed": true
   },
   "outputs": [],
   "source": [
    "import matplotlib.pyplot as plt\n",
    "import seaborn as sns\n",
    "%matplotlib inline"
   ]
  },
  {
   "cell_type": "code",
   "execution_count": 60,
   "metadata": {},
   "outputs": [
    {
     "data": {
      "text/plain": [
       "<matplotlib.axes._subplots.AxesSubplot at 0x20acc3df710>"
      ]
     },
     "execution_count": 60,
     "metadata": {},
     "output_type": "execute_result"
    },
    {
     "data": {
      "image/png": "[encoded data removed]",
      "text/plain": [
       "<matplotlib.figure.Figure at 0x20acc080f28>"
      ]
     },
     "metadata": {},
     "output_type": "display_data"
    }
   ],
   "source": [
    "fig, (ax1, ax2) = plt.subplots(nrows=1, ncols=2, figsize=(10,8))\n",
    "df.ages.value_counts().plot(ax=ax1, kind='barh')\n",
    "df.ages2.value_counts().plot(ax=ax2, kind='barh')\n"
   ]
  },
  {
   "cell_type": "code",
   "execution_count": 67,
   "metadata": {},
   "outputs": [
    {
     "data": {
      "text/plain": [
       "<matplotlib.axes._subplots.AxesSubplot at 0x20acc55e128>"
      ]
     },
     "execution_count": 67,
     "metadata": {},
     "output_type": "execute_result"
    },
    {
     "data": {
      "image/png": "[encoded data removed]",
      "text/plain": [
       "<matplotlib.figure.Figure at 0x20acc552be0>"
      ]
     },
     "metadata": {},
     "output_type": "display_data"
    }
   ],
   "source": [
    "#With ordering\n",
    "temp = df.ages.value_counts()\n",
    "temp = temp.reset_index()\n",
    "temp.columns = ['age_bracket', 'count']\n",
    "temp['order'] = temp['age_bracket'].map(lambda x: int(x.split('-')[0].strip('+').strip('½')))\n",
    "temp = temp.sort_values(by='order')\n",
    "temp = temp.set_index('age_bracket')\n",
    "temp['count'].plot(kind='barh')"
   ]
  },
  {
   "cell_type": "code",
   "execution_count": 68,
   "metadata": {},
   "outputs": [
    {
     "data": {
      "text/plain": [
       "<matplotlib.axes._subplots.AxesSubplot at 0x20acc4caeb8>"
      ]
     },
     "execution_count": 68,
     "metadata": {},
     "output_type": "execute_result"
    },
    {
     "data": {
      "image/png": "[encoded data removed]",
      "text/plain": [
       "<matplotlib.figure.Figure at 0x20acc552198>"
      ]
     },
     "metadata": {},
     "output_type": "display_data"
    }
   ],
   "source": [
    "fig, (ax1, ax2) = plt.subplots(nrows=1, ncols=2, figsize=(10,8))\n",
    "\n",
    "temp = df.ages.value_counts()\n",
    "temp = temp.reset_index()\n",
    "temp.columns = ['age_bracket', 'count']\n",
    "temp['order'] = temp['age_bracket'].map(lambda x: int(x.split('-')[0].strip('+').strip('½')))\n",
    "temp = temp.sort_values(by='order')\n",
    "temp = temp.set_index('age_bracket')\n",
    "temp['count'].plot(ax=ax1, kind='barh')\n",
    "\n",
    "temp = df.ages2.value_counts()\n",
    "temp = temp.reset_index()\n",
    "temp.columns = ['age_bracket', 'count']\n",
    "temp['order'] = temp['age_bracket'].map(lambda x: int(x.split('-')[0].strip('+').strip('½')))\n",
    "temp = temp.sort_values(by='order')\n",
    "temp = temp.set_index('age_bracket')\n",
    "temp['count'].plot(ax=ax2, kind='barh')"
   ]
  },
  {
   "cell_type": "markdown",
   "metadata": {},
   "source": [
    "# Level Up:\n",
    "Write your dictionary for the data transformation with a loop rather then manually coding the mapping."
   ]
  },
  {
   "cell_type": "code",
   "execution_count": null,
   "metadata": {
    "collapsed": true
   },
   "outputs": [],
   "source": [
    "# See code above."
   ]
  }
 ],
 "metadata": {
  "kernelspec": {
   "display_name": "Python 3",
   "language": "python",
   "name": "python3"
  },
  "language_info": {
   "codemirror_mode": {
    "name": "ipython",
    "version": 3
   },
   "file_extension": ".py",
   "mimetype": "text/x-python",
   "name": "python",
   "nbconvert_exporter": "python",
   "pygments_lexer": "ipython3",
   "version": "3.6.5"
  }
 },
 "nbformat": 4,
 "nbformat_minor": 2
}
